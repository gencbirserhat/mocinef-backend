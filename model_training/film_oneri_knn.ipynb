{
 "cells": [
  {
   "cell_type": "code",
   "execution_count": 2,
   "metadata": {
    "colab": {
     "base_uri": "https://localhost:8080/"
    },
    "executionInfo": {
     "elapsed": 3386,
     "status": "ok",
     "timestamp": 1748891115446,
     "user": {
      "displayName": "Info Aselsis",
      "userId": "09505259948756031891"
     },
     "user_tz": -180
    },
    "id": "lkB7zQAP9JS9",
    "outputId": "666484ec-7a4e-49a6-89c1-064fa9c9dfd2"
   },
   "outputs": [],
   "source": [
    "import pandas as pd\n",
    "import numpy as np\n",
    "from sklearn.neighbors import NearestNeighbors\n",
    "from sklearn.feature_extraction.text import TfidfVectorizer\n",
    "from sklearn.preprocessing import normalize, MinMaxScaler"
   ]
  },
  {
   "cell_type": "code",
   "execution_count": null,
   "metadata": {
    "executionInfo": {
     "elapsed": 12353,
     "status": "ok",
     "timestamp": 1748891890447,
     "user": {
      "displayName": "Info Aselsis",
      "userId": "09505259948756031891"
     },
     "user_tz": -180
    },
    "id": "hMUu-ElJ-2mg"
   },
   "outputs": [
    {
     "name": "stdout",
     "output_type": "stream",
     "text": [
      "Dataset loaded with 159742 rows and 20 columns.\n",
      "Filtered dataset now has 128924 rows.\n"
     ]
    }
   ],
   "source": [
    "file_path = \"movies_dataset.csv\"\n",
    "df = pd.read_csv(file_path)\n",
    "df = df.dropna(\n",
    "    subset=[\n",
    "        \"title\",\n",
    "        \"overview\",\n",
    "        \"genres\",\n",
    "        \"keywords\",\n",
    "        \"popularity\",\n",
    "        \"poster_path\",\n",
    "        \"vote_average\",\n",
    "        \"vote_count\",\n",
    "        \"release_date\",\n",
    "    ]\n",
    ")\n",
    "\n",
    "mask = ~(\n",
    "    df['genres'].str.contains('Documentary', case=False, na=False) |\n",
    "    df['genres'].str.contains('porn', case=False, na=False) |\n",
    "    df['keywords'].str.contains('porn', case=False, na=False) |\n",
    "    df['keywords'].str.contains('softcore', case=False, na=False) |\n",
    "    df['keywords'].str.contains('bdsm', case=False, na=False)    \n",
    ")\n",
    "df = df[mask].reset_index(drop=True)\n"
   ]
  },
  {
   "cell_type": "code",
   "execution_count": 4,
   "metadata": {},
   "outputs": [
    {
     "name": "stdout",
     "output_type": "stream",
     "text": [
      "Filtrelenmiş veri seti 'filtered_movies_dataset.csv' dosyasına kaydedildi.\n"
     ]
    }
   ],
   "source": [
    "filtered_csv_path = \"filtered_movies_dataset.csv\"\n",
    "df.to_csv(filtered_csv_path, index=False)\n",
    "print(f\"Filtrelenmiş veri seti '{filtered_csv_path}' dosyasına kaydedildi.\")"
   ]
  },
  {
   "cell_type": "code",
   "execution_count": 5,
   "metadata": {
    "executionInfo": {
     "elapsed": 322,
     "status": "ok",
     "timestamp": 1748891914748,
     "user": {
      "displayName": "Info Aselsis",
      "userId": "09505259948756031891"
     },
     "user_tz": -180
    },
    "id": "4apgQHrU_1YH"
   },
   "outputs": [],
   "source": [
    "df[\"combined\"] = df[\"genres\"].fillna('') + \" \" + df[\"keywords\"].fillna('') + \" \" + df[\"overview\"].fillna('')"
   ]
  },
  {
   "cell_type": "code",
   "execution_count": null,
   "metadata": {
    "colab": {
     "base_uri": "https://localhost:8080/",
     "height": 80
    },
    "executionInfo": {
     "elapsed": 8032,
     "status": "ok",
     "timestamp": 1748892820904,
     "user": {
      "displayName": "Info Aselsis",
      "userId": "09505259948756031891"
     },
     "user_tz": -180
    },
    "id": "mQy7cQQKAAW-",
    "outputId": "8c244d56-9f66-4a0c-c03e-312f684e87b7"
   },
   "outputs": [
    {
     "data": {
      "text/html": [
       "<style>#sk-container-id-1 {color: black;}#sk-container-id-1 pre{padding: 0;}#sk-container-id-1 div.sk-toggleable {background-color: white;}#sk-container-id-1 label.sk-toggleable__label {cursor: pointer;display: block;width: 100%;margin-bottom: 0;padding: 0.3em;box-sizing: border-box;text-align: center;}#sk-container-id-1 label.sk-toggleable__label-arrow:before {content: \"▸\";float: left;margin-right: 0.25em;color: #696969;}#sk-container-id-1 label.sk-toggleable__label-arrow:hover:before {color: black;}#sk-container-id-1 div.sk-estimator:hover label.sk-toggleable__label-arrow:before {color: black;}#sk-container-id-1 div.sk-toggleable__content {max-height: 0;max-width: 0;overflow: hidden;text-align: left;background-color: #f0f8ff;}#sk-container-id-1 div.sk-toggleable__content pre {margin: 0.2em;color: black;border-radius: 0.25em;background-color: #f0f8ff;}#sk-container-id-1 input.sk-toggleable__control:checked~div.sk-toggleable__content {max-height: 200px;max-width: 100%;overflow: auto;}#sk-container-id-1 input.sk-toggleable__control:checked~label.sk-toggleable__label-arrow:before {content: \"▾\";}#sk-container-id-1 div.sk-estimator input.sk-toggleable__control:checked~label.sk-toggleable__label {background-color: #d4ebff;}#sk-container-id-1 div.sk-label input.sk-toggleable__control:checked~label.sk-toggleable__label {background-color: #d4ebff;}#sk-container-id-1 input.sk-hidden--visually {border: 0;clip: rect(1px 1px 1px 1px);clip: rect(1px, 1px, 1px, 1px);height: 1px;margin: -1px;overflow: hidden;padding: 0;position: absolute;width: 1px;}#sk-container-id-1 div.sk-estimator {font-family: monospace;background-color: #f0f8ff;border: 1px dotted black;border-radius: 0.25em;box-sizing: border-box;margin-bottom: 0.5em;}#sk-container-id-1 div.sk-estimator:hover {background-color: #d4ebff;}#sk-container-id-1 div.sk-parallel-item::after {content: \"\";width: 100%;border-bottom: 1px solid gray;flex-grow: 1;}#sk-container-id-1 div.sk-label:hover label.sk-toggleable__label {background-color: #d4ebff;}#sk-container-id-1 div.sk-serial::before {content: \"\";position: absolute;border-left: 1px solid gray;box-sizing: border-box;top: 0;bottom: 0;left: 50%;z-index: 0;}#sk-container-id-1 div.sk-serial {display: flex;flex-direction: column;align-items: center;background-color: white;padding-right: 0.2em;padding-left: 0.2em;position: relative;}#sk-container-id-1 div.sk-item {position: relative;z-index: 1;}#sk-container-id-1 div.sk-parallel {display: flex;align-items: stretch;justify-content: center;background-color: white;position: relative;}#sk-container-id-1 div.sk-item::before, #sk-container-id-1 div.sk-parallel-item::before {content: \"\";position: absolute;border-left: 1px solid gray;box-sizing: border-box;top: 0;bottom: 0;left: 50%;z-index: -1;}#sk-container-id-1 div.sk-parallel-item {display: flex;flex-direction: column;z-index: 1;position: relative;background-color: white;}#sk-container-id-1 div.sk-parallel-item:first-child::after {align-self: flex-end;width: 50%;}#sk-container-id-1 div.sk-parallel-item:last-child::after {align-self: flex-start;width: 50%;}#sk-container-id-1 div.sk-parallel-item:only-child::after {width: 0;}#sk-container-id-1 div.sk-dashed-wrapped {border: 1px dashed gray;margin: 0 0.4em 0.5em 0.4em;box-sizing: border-box;padding-bottom: 0.4em;background-color: white;}#sk-container-id-1 div.sk-label label {font-family: monospace;font-weight: bold;display: inline-block;line-height: 1.2em;}#sk-container-id-1 div.sk-label-container {text-align: center;}#sk-container-id-1 div.sk-container {/* jupyter's `normalize.less` sets `[hidden] { display: none; }` but bootstrap.min.css set `[hidden] { display: none !important; }` so we also need the `!important` here to be able to override the default hidden behavior on the sphinx rendered scikit-learn.org. See: https://github.com/scikit-learn/scikit-learn/issues/21755 */display: inline-block !important;position: relative;}#sk-container-id-1 div.sk-text-repr-fallback {display: none;}</style><div id=\"sk-container-id-1\" class=\"sk-top-container\"><div class=\"sk-text-repr-fallback\"><pre>NearestNeighbors(algorithm=&#x27;brute&#x27;, metric=&#x27;cosine&#x27;)</pre><b>In a Jupyter environment, please rerun this cell to show the HTML representation or trust the notebook. <br />On GitHub, the HTML representation is unable to render, please try loading this page with nbviewer.org.</b></div><div class=\"sk-container\" hidden><div class=\"sk-item\"><div class=\"sk-estimator sk-toggleable\"><input class=\"sk-toggleable__control sk-hidden--visually\" id=\"sk-estimator-id-1\" type=\"checkbox\" checked><label for=\"sk-estimator-id-1\" class=\"sk-toggleable__label sk-toggleable__label-arrow\">NearestNeighbors</label><div class=\"sk-toggleable__content\"><pre>NearestNeighbors(algorithm=&#x27;brute&#x27;, metric=&#x27;cosine&#x27;)</pre></div></div></div></div></div>"
      ],
      "text/plain": [
       "NearestNeighbors(algorithm='brute', metric='cosine')"
      ]
     },
     "execution_count": 6,
     "metadata": {},
     "output_type": "execute_result"
    }
   ],
   "source": [
    "# TF-IDF (Term Frequency-Inverse Document Frequency): Kelimelerin önemini belirleyip metni vektörleştirir.\n",
    "# max_features=5000: En sık geçen 5000 kelimeyi dikkate alır.\n",
    "# fit_transform: Metni vektörlere dönüştürür.\n",
    "tfidf = TfidfVectorizer(stop_words='english', max_features=5000)\n",
    "tfidf_matrix = tfidf.fit_transform(df['combined'])\n",
    "\n",
    "# Sayısal sütunları alalım\n",
    "numeric_cols = [\"vote_average\", \"vote_count\", \"popularity\", \"runtime\"]\n",
    "numeric_features_raw = df[numeric_cols].fillna(0).values\n",
    "\n",
    "# Sayısal özellikleri ölçeklendirelim\n",
    "scaler = MinMaxScaler()\n",
    "numeric_features_scaled = scaler.fit_transform(numeric_features_raw)\n",
    "\n",
    "from scipy.sparse import hstack\n",
    "# TF-IDF matrisi (zaten TfidfVectorizer tarafından normalize edilmiş olabilir)\n",
    "# ve ÖLÇEKLENDİRİLMİŞ sayısal özellikleri birleştirelim\n",
    "X = hstack([tfidf_matrix, numeric_features_scaled])\n",
    "\n",
    "# Birleştirilmiş özellik matrisini normalize edelim\n",
    "# Bu, her filmin birleşik özellik vektörünün birim uzunlukta olmasını sağlar,\n",
    "# böylece kosinüs benzerliği beklendiği gibi çalışır.\n",
    "X = normalize(X)\n",
    "\n",
    "# metric='cosine': Kosinüs benzerliği kullanılır (vektörler arasındaki açıya bakar).\n",
    "# algorithm='brute': Tüm vektörler arasında doğrudan karşılaştırma yapar.\n",
    "model_knn = NearestNeighbors(metric='cosine', algorithm='brute')\n",
    "model_knn.fit(X)"
   ]
  },
  {
   "cell_type": "code",
   "execution_count": 7,
   "metadata": {},
   "outputs": [
    {
     "name": "stdout",
     "output_type": "stream",
     "text": [
      "Model ve ilgili bileşenler 'model_files' klasörüne kaydedildi.\n"
     ]
    }
   ],
   "source": [
    "import joblib\n",
    "import os\n",
    "\n",
    "# Kaydetmek için klasör oluştur\n",
    "os.makedirs(\"model_files\", exist_ok=True)\n",
    "\n",
    "# Tüm gerekli bileşenleri kaydet\n",
    "joblib.dump(model_knn, \"model_files/knn_model.joblib\")\n",
    "joblib.dump(tfidf, \"model_files/tfidf_vectorizer.joblib\")\n",
    "joblib.dump(scaler, \"model_files/scaler.joblib\")\n",
    "\n",
    "# X matrisini ve DataFrame'i de kaydedelim\n",
    "joblib.dump(X, \"model_files/feature_matrix.joblib\")\n",
    "df[[\"id\", \"title\", \"genres\", \"keywords\", \"overview\", \"vote_average\", \"vote_count\", \n",
    "   \"popularity\", \"runtime\", \"poster_path\", \"combined\", \"release_date\"]].to_pickle(\"model_files/movies_df.pkl\")\n",
    "\n",
    "print(\"Model ve ilgili bileşenler 'model_files' klasörüne kaydedildi.\")"
   ]
  },
  {
   "cell_type": "code",
   "execution_count": 28,
   "metadata": {
    "colab": {
     "base_uri": "https://localhost:8080/"
    },
    "executionInfo": {
     "elapsed": 2479,
     "status": "ok",
     "timestamp": 1748892962667,
     "user": {
      "displayName": "Info Aselsis",
      "userId": "09505259948756031891"
     },
     "user_tz": -180
    },
    "id": "mUTk1gH6ChNI",
    "outputId": "bed50207-6b1d-40e5-8383-f3660947871d"
   },
   "outputs": [
    {
     "name": "stdout",
     "output_type": "stream",
     "text": [
      "Ortalama Benzerlik Skoru (Top 250): 0.6584\n"
     ]
    }
   ],
   "source": [
    "def average_similarity_score(X, model, top_indices, k=6):\n",
    "    X_csr = X.tocsr()\n",
    "    # Sadece seçilen filmler için KNN uygula\n",
    "    X_selected = X_csr[top_indices]\n",
    "    distances, indices = model.kneighbors(X_selected, n_neighbors=k)\n",
    "\n",
    "    # İlk komşu kendisi olduğundan onu atıyoruz\n",
    "    scores = 1 - distances[:, 1:]  # cosine distance → similarity\n",
    "    mean_sim = np.mean(scores)\n",
    "    return mean_sim\n",
    "\n",
    "# ✅ 1. Vote average'a göre en yüksek 250 filmi al\n",
    "top_250_indices = df.sort_values(\"vote_average\", ascending=False).head(250).index\n",
    "\n",
    "# ✅ 2. Ortalama benzerlik skorunu hesapla\n",
    "avg_score = average_similarity_score(X, model_knn, top_250_indices, k=6)\n",
    "print(\"Ortalama Benzerlik Skoru (Top 250):\", round(avg_score, 4))"
   ]
  },
  {
   "cell_type": "code",
   "execution_count": 30,
   "metadata": {
    "colab": {
     "base_uri": "https://localhost:8080/"
    },
    "executionInfo": {
     "elapsed": 125,
     "status": "ok",
     "timestamp": 1748893085821,
     "user": {
      "displayName": "Info Aselsis",
      "userId": "09505259948756031891"
     },
     "user_tz": -180
    },
    "id": "D4e26pVqAMkJ",
    "outputId": "807b4933-5f5b-496b-9071-81a87cbb4c6a"
   },
   "outputs": [
    {
     "name": "stdout",
     "output_type": "stream",
     "text": [
      "Distances: [0.17759378 0.17759378 0.39267937 0.40913282 0.41896342 0.42153627\n",
      " 0.42190227]\n",
      "Indices: [  2782   2781 111079   1136   2508  68793    467]\n",
      "i not in [idx1, idx2] filtrelemesinden önce tüm eşleşmeler:\n",
      "Dragon Ball Z: Dead Zone → 0.8224062192017094\n",
      "Bleach the Movie: Fade to Black → 0.8224062192017092\n",
      "The Fixer → 0.6073206268301953\n",
      "Dragon Ball Z: Lord Slug → 0.5908671771946434\n",
      "Dragon Ball: Curse of the Blood Rubies → 0.5810365837582266\n",
      "Militant Eagle → 0.5784637281965418\n",
      "Dragon Ball Z: Broly – The Legendary Super Saiyan → 0.5780977291615966\n"
     ]
    },
    {
     "data": {
      "text/plain": [
       "[('The Fixer', 0.607),\n",
       " ('Dragon Ball Z: Lord Slug', 0.591),\n",
       " ('Dragon Ball: Curse of the Blood Rubies', 0.581),\n",
       " ('Militant Eagle', 0.578),\n",
       " ('Dragon Ball Z: Broly – The Legendary Super Saiyan', 0.578)]"
      ]
     },
     "execution_count": 30,
     "metadata": {},
     "output_type": "execute_result"
    }
   ],
   "source": [
    "def recommend_from_two_knn(title1, title2, top_n=5):\n",
    "    idx1 = df[df[\"title\"] == title1].index[0]\n",
    "    idx2 = df[df[\"title\"] == title2].index[0]\n",
    "\n",
    "    # Convert X to CSR format for efficient row slicing\n",
    "    X_csr = X.tocsr()\n",
    "\n",
    "    vec1 = X_csr[idx1]\n",
    "    vec2 = X_csr[idx2]\n",
    "    combined_vec = (vec1 + vec2) / 2  # ortalama vektör\n",
    "\n",
    "    # The kneighbors method of NearestNeighbors can work with sparse matrices,\n",
    "    # so we don't need to change model_knn.kneighbors.\n",
    "    distances, indices = model_knn.kneighbors(combined_vec, n_neighbors=top_n+2)\n",
    "    print(\"Distances:\", distances[0])\n",
    "    print(\"Indices:\", indices[0])\n",
    "    print(\"i not in [idx1, idx2] filtrelemesinden önce tüm eşleşmeler:\")\n",
    "    for j, i in enumerate(indices[0]):\n",
    "        print(df.iloc[i][\"title\"], \"→\", 1 - distances[0][j])\n",
    "    recs = [(df.iloc[i][\"title\"], round(1 - distances[0][j], 3))\n",
    "            for j, i in enumerate(indices[0]) if i not in [idx1, idx2]][:top_n]\n",
    "\n",
    "    return recs\n",
    "\n",
    "recommend_from_two_knn(\"Dragon Ball Z: Dead Zone\", \"Bleach the Movie: Fade to Black\")"
   ]
  }
 ],
 "metadata": {
  "colab": {
   "authorship_tag": "ABX9TyPAm6nI+2EhjM5PqgZ0Ul5Q",
   "gpuType": "T4",
   "provenance": []
  },
  "kernelspec": {
   "display_name": "Python 3",
   "name": "python3"
  },
  "language_info": {
   "codemirror_mode": {
    "name": "ipython",
    "version": 3
   },
   "file_extension": ".py",
   "mimetype": "text/x-python",
   "name": "python",
   "nbconvert_exporter": "python",
   "pygments_lexer": "ipython3",
   "version": "3.10.11"
  }
 },
 "nbformat": 4,
 "nbformat_minor": 0
}
